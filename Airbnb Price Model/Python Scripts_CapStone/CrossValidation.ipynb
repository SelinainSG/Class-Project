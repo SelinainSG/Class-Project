{
 "cells": [
  {
   "cell_type": "code",
   "execution_count": 1,
   "metadata": {},
   "outputs": [],
   "source": [
    "##universal setting\n",
    "import pandas as pd\n",
    "import numpy as np\n",
    "import matplotlib.pyplot as plt\n",
    "import geopandas as gpd\n",
    "import shapely\n",
    "from sklearn import preprocessing\n",
    "from sklearn.preprocessing import OneHotEncoder\n",
    "from sklearn.model_selection import train_test_split\n",
    "from sklearn.linear_model import LinearRegression\n",
    "from sklearn.metrics import mean_squared_error,r2_score\n",
    "from sklearn.model_selection import GridSearchCV\n",
    "import seaborn as sns\n",
    "from sklearn import linear_model\n",
    "from sklearn.svm import SVR\n",
    "#from Output_Equation import OutPut\n",
    "from xgboost import XGBRegressor\n",
    "from sklearn.model_selection import KFold"
   ]
  },
  {
   "cell_type": "code",
   "execution_count": 2,
   "metadata": {},
   "outputs": [],
   "source": [
    "# ---------data location------------------------------------------------------------------------------------------------\n",
    "read_location=\"C:/Selina/Class/(DS_MS)/Capstone/DataSet/\"\n",
    "save_location=\"C:/Selina/Class/(DS_MS)/Capstone/Result/\"\n",
    "my_cmap=plt.cm.get_cmap(\"Pastel2\")\n",
    "y=\"price\"\n",
    "testing=\"CrossValidation3_\"\n",
    "classifier=\"XGBT\"\n",
    "X_train=pd.read_csv(read_location+\"X_train.csv\",index_col=False)\n",
    "X_test=pd.read_csv(read_location+\"X_test.csv\",index_col=False)\n",
    "y_train=pd.read_csv(read_location+\"y_train.csv\",index_col=False)\n",
    "y_test=pd.read_csv(read_location+\"y_test.csv\",index_col=False)\n",
    "\n",
    "#for ploting \n",
    "params = {'legend.fontsize': 'x-large',\n",
    "          'figure.figsize': (10, 10),\n",
    "         'axes.labelsize': 'x-large',\n",
    "         'axes.titlesize':'x-large',\n",
    "         'xtick.labelsize':'x-large',\n",
    "         'ytick.labelsize':'x-large'}\n",
    "plt.rcParams.update(params)"
   ]
  },
  {
   "cell_type": "code",
   "execution_count": 4,
   "metadata": {},
   "outputs": [
    {
     "name": "stdout",
     "output_type": "stream",
     "text": [
      "[19:52:14] WARNING: src/objective/regression_obj.cu:152: reg:linear is now deprecated in favor of reg:squarederror.\n"
     ]
    },
    {
     "data": {
      "text/plain": [
       "GridSearchCV(cv=3, error_score='raise-deprecating',\n",
       "             estimator=XGBRegressor(base_score=0.5, booster='gbtree',\n",
       "                                    colsample_bylevel=1, colsample_bynode=1,\n",
       "                                    colsample_bytree=1, gamma=0,\n",
       "                                    importance_type='gain', learning_rate=0.1,\n",
       "                                    max_delta_step=0, max_depth=3,\n",
       "                                    min_child_weight=1, missing=None,\n",
       "                                    n_estimators=100, n_jobs=-1, nthread=None,\n",
       "                                    objective='reg:linear', random_state=1234,\n",
       "                                    reg_alpha=0, reg_lambda=1,\n",
       "                                    scale_pos_weight=1, seed=None, silent=None,\n",
       "                                    subsample=1, verbosity=1),\n",
       "             iid='warn', n_jobs=-1,\n",
       "             param_grid={' n_estimators': [50, 100, 200, 500],\n",
       "                         'eta': [1, 0.5, 0.3, 0.2, 0.1], 'gamma': [0, 0.1, 0.3],\n",
       "                         'max_depth': range(3, 10, 2),\n",
       "                         'reg_lambda': [0.1, 1, 5, 10]},\n",
       "             pre_dispatch='2*n_jobs', refit=True, return_train_score=False,\n",
       "             scoring='r2', verbose=0)"
      ]
     },
     "execution_count": 4,
     "metadata": {},
     "output_type": "execute_result"
    }
   ],
   "source": [
    "#Cross-Validation\n",
    "parameters={\"SVM\":[{\"kernel\":[\"linear\"],\"C\":[0.001, 0.1, 1, 10, 100]},\n",
    "                   {\"kernel\":[\"rbf\"],\"C\":[0.001, 0.1, 1, 10, 100],'gamma':[10**x for x in range(-2,3)]},\n",
    "                   {\"kernel\":[\"poly\"],\"C\":[0.001, 0.1, 1, 10, 100],'gamma':[10**x for x in range(-7,-3)],\"degree\":[2,3],\"coef0\":[10**x for x in range(-1,3)]}\n",
    "                   ],\n",
    "            \"XGBT\":{\"eta\":[1,0.5,0.3,0.2,0.1],\" n_estimators\":[50,100,200,500],'max_depth':range(3,10,2),\"gamma\":[0,0.1,0.3],\"reg_lambda\":[0.1,1,5,10]}\n",
    "            }\n",
    "clf={\"SVM\":SVR(),\"XGBT\":XGBRegressor(random_state=1234,n_jobs=-1)\n",
    "}\n",
    "\n",
    "\n",
    "GS=GridSearchCV(clf[classifier],param_grid=parameters[classifier],cv=3,scoring=\"r2\",n_jobs=-1,refit=True)\n",
    "GS.fit(X_train,y_train.values.ravel())\n"
   ]
  },
  {
   "cell_type": "code",
   "execution_count": 5,
   "metadata": {},
   "outputs": [],
   "source": [
    "GS_SCV=pd.DataFrame.from_dict(GS.cv_results_)\n",
    "GS_SCV.to_csv(save_location+testing+classifier+\"_3.csv\")"
   ]
  }
 ],
 "metadata": {
  "kernelspec": {
   "display_name": "Python 3",
   "language": "python",
   "name": "python3"
  },
  "language_info": {
   "codemirror_mode": {
    "name": "ipython",
    "version": 3
   },
   "file_extension": ".py",
   "mimetype": "text/x-python",
   "name": "python",
   "nbconvert_exporter": "python",
   "pygments_lexer": "ipython3",
   "version": "3.6.5"
  }
 },
 "nbformat": 4,
 "nbformat_minor": 2
}
