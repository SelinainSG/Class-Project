{
 "cells": [
  {
   "cell_type": "code",
   "execution_count": 1,
   "metadata": {},
   "outputs": [],
   "source": [
    "##universal setting \n",
    "import pandas as pd\n",
    "import matplotlib.pyplot as plt\n",
    "import geopandas as gpd\n",
    "import shapely\n",
    "from sklearn import preprocessing\n",
    "import seaborn as sns\n",
    "import numpy as np"
   ]
  },
  {
   "cell_type": "code",
   "execution_count": 5,
   "metadata": {},
   "outputs": [],
   "source": [
    "# data location\n",
    "read_location=\"C:/Selina/Class/(DS_MS)/Capstone/DataSet/\"\n",
    "save_location=\"C:/Selina/Class/(DS_MS)/Capstone/Result/\"\n",
    "#plot color setting (https://matplotlib.org/3.1.1/gallery/color/colormap_reference.html)\n",
    "my_cmap=plt.cm.get_cmap(\"Pastel2\")\n",
    "#for geopandas setting\n",
    "crs={'init': 'epsg:4326'}\n",
    "CV_SVM=pd.read_csv(save_location+\"CrossValidation_SVM_linear.csv\",index_col=0)"
   ]
  },
  {
   "cell_type": "code",
   "execution_count": 33,
   "metadata": {},
   "outputs": [
    {
     "name": "stdout",
     "output_type": "stream",
     "text": [
      "param_kernel param_gamma param_C\n"
     ]
    }
   ],
   "source": [
    "y=\"mean_test_score\"\n",
    "x0=['mean_fit_time', 'std_fit_time', 'mean_score_time', 'std_score_time', 'params', 'split0_test_score',\n",
    "    'split1_test_score', 'split2_test_score', 'mean_test_score','std_test_score', 'rank_test_score']\n",
    "\n",
    "SVM_para= [x for x in CV_SVM.columns if x not in x0]\n",
    "x1=SVM_para.pop()\n",
    "x2=SVM_para.pop()\n",
    "x3=SVM_para.pop()\n",
    "print(x1,x2,x3)\n",
    "\n"
   ]
  }
 ],
 "metadata": {
  "kernelspec": {
   "display_name": "Python 3",
   "language": "python",
   "name": "python3"
  },
  "language_info": {
   "codemirror_mode": {
    "name": "ipython",
    "version": 3
   },
   "file_extension": ".py",
   "mimetype": "text/x-python",
   "name": "python",
   "nbconvert_exporter": "python",
   "pygments_lexer": "ipython3",
   "version": "3.6.5"
  }
 },
 "nbformat": 4,
 "nbformat_minor": 2
}
