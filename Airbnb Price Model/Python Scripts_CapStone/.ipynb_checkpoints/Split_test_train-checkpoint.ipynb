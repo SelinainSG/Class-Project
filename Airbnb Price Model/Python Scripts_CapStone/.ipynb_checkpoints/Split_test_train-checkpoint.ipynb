{
 "cells": [
  {
   "cell_type": "code",
   "execution_count": 73,
   "metadata": {},
   "outputs": [],
   "source": [
    "##universal setting\n",
    "import pandas as pd\n",
    "import numpy as np\n",
    "import matplotlib.pyplot as plt\n",
    "import geopandas as gpd\n",
    "import shapely\n",
    "from sklearn import preprocessing\n",
    "from sklearn.preprocessing import OneHotEncoder\n",
    "from sklearn.model_selection import train_test_split\n",
    "from sklearn.linear_model import LinearRegression\n",
    "from sklearn.metrics import mean_squared_error,r2_score\n",
    "from sklearn.preprocessing import RobustScaler\n",
    "from sklearn.preprocessing import StandardScaler\n",
    "import seaborn as sns"
   ]
  },
  {
   "cell_type": "code",
   "execution_count": 64,
   "metadata": {},
   "outputs": [],
   "source": [
    "# data location\n",
    "read_location=\"C:/Selina/Class/(DS_MS)/Capstone/DataSet/\"\n",
    "save_location=\"C:/Selina/Class/(DS_MS)/Capstone/Result/\"\n",
    "#plot color setting (https://matplotlib.org/3.1.1/gallery/color/colormap_reference.html)\n",
    "my_cmap=plt.cm.get_cmap(\"Pastel2\")\n",
    "#for geopandas setting\n",
    "crs={'init': 'epsg:4326'}"
   ]
  },
  {
   "cell_type": "code",
   "execution_count": 65,
   "metadata": {},
   "outputs": [
    {
     "name": "stdout",
     "output_type": "stream",
     "text": [
      "Index(['id', 'name', 'host_id', 'host_name', 'neighbourhood_group',\n",
      "       'neighbourhood', 'latitude', 'longitude', 'room_type', 'price',\n",
      "       'minimum_nights', 'number_of_reviews', 'last_review',\n",
      "       'reviews_per_month', 'calculated_host_listings_count',\n",
      "       'availability_365'],\n",
      "      dtype='object')\n"
     ]
    }
   ],
   "source": [
    "#import data\n",
    "data=pd.read_csv(read_location+\"AB_NYC_2019.csv\",index_col=False)\n",
    "#data = data.reset_index()\n",
    "print(data.columns)\n",
    "#define the name of algebra\n",
    "y=\"price\""
   ]
  },
  {
   "cell_type": "code",
   "execution_count": 66,
   "metadata": {},
   "outputs": [
    {
     "name": "stdout",
     "output_type": "stream",
     "text": [
      "     id                                 name  host_id  host_name  \\\n",
      "0  2539   Clean & quiet apt home by the park     2787       John   \n",
      "1  2595                Skylit Midtown Castle     2845   Jennifer   \n",
      "2  3647  THE VILLAGE OF HARLEM....NEW YORK !     4632  Elisabeth   \n",
      "\n",
      "  neighbourhood_group neighbourhood  latitude  longitude        room_type  \\\n",
      "0            Brooklyn    Kensington  40.64749  -73.97237     Private room   \n",
      "1           Manhattan       Midtown  40.75362  -73.98377  Entire home/apt   \n",
      "2           Manhattan        Harlem  40.80902  -73.94190     Private room   \n",
      "\n",
      "   price  ...  calculated_host_listings_count  availability_365  \\\n",
      "0    149  ...                               6               365   \n",
      "1    225  ...                               2               355   \n",
      "2    150  ...                               1               365   \n",
      "\n",
      "  Entire home/apt  Private room  Shared room  Bronx  Brooklyn  Manhattan  \\\n",
      "0             0.0           1.0          0.0    0.0       1.0        0.0   \n",
      "1             1.0           0.0          0.0    0.0       0.0        1.0   \n",
      "2             0.0           1.0          0.0    0.0       0.0        1.0   \n",
      "\n",
      "   Queens  Staten Island  \n",
      "0     0.0            0.0  \n",
      "1     0.0            0.0  \n",
      "2     0.0            0.0  \n",
      "\n",
      "[3 rows x 24 columns]\n"
     ]
    }
   ],
   "source": [
    "#variables of categorical data \n",
    "x_rt=\"room_type\"\n",
    "enc_rt= OneHotEncoder(handle_unknown='ignore')\n",
    "a=enc_rt.fit_transform(data[x_rt].values.reshape((-1,1))).toarray()\n",
    "df_a=pd.DataFrame(a, columns=enc_rt.categories_[0])\n",
    "data = pd.concat([data, df_a], axis=1)\n",
    "\n",
    "x_ng=\"neighbourhood_group\"\n",
    "enc_ng= OneHotEncoder(handle_unknown='ignore')\n",
    "a=enc_ng.fit_transform(data[x_ng].values.reshape((-1,1))).toarray()\n",
    "df_a=pd.DataFrame(a, columns=enc_ng.categories_[0])\n",
    "data = pd.concat([data, df_a], axis=1)\n",
    "\n",
    "print(data.head(3))"
   ]
  },
  {
   "cell_type": "code",
   "execution_count": 67,
   "metadata": {},
   "outputs": [
    {
     "name": "stdout",
     "output_type": "stream",
     "text": [
      "   latitude  longitude  price  minimum_nights  number_of_reviews  \\\n",
      "0  40.64749  -73.97237    149               1                  9   \n",
      "1  40.75362  -73.98377    225               1                 45   \n",
      "2  40.80902  -73.94190    150               3                  0   \n",
      "\n",
      "   reviews_per_month  calculated_host_listings_count  availability_365  \\\n",
      "0               0.21                               6               365   \n",
      "1               0.38                               2               355   \n",
      "2                NaN                               1               365   \n",
      "\n",
      "   Entire home/apt  Private room  Shared room  Bronx  Brooklyn  Manhattan  \\\n",
      "0              0.0           1.0          0.0    0.0       1.0        0.0   \n",
      "1              1.0           0.0          0.0    0.0       0.0        1.0   \n",
      "2              0.0           1.0          0.0    0.0       0.0        1.0   \n",
      "\n",
      "   Queens  Staten Island  \n",
      "0     0.0            0.0  \n",
      "1     0.0            0.0  \n",
      "2     0.0            0.0  \n"
     ]
    }
   ],
   "source": [
    "drop_list=[x_ng,x_rt,'id', 'name', 'host_id', 'host_name','neighbourhood',\"last_review\"]\n",
    "data=data.drop(columns=drop_list)\n",
    "print(data.head(3))"
   ]
  },
  {
   "cell_type": "code",
   "execution_count": 68,
   "metadata": {},
   "outputs": [
    {
     "data": {
      "text/html": [
       "<div>\n",
       "<style scoped>\n",
       "    .dataframe tbody tr th:only-of-type {\n",
       "        vertical-align: middle;\n",
       "    }\n",
       "\n",
       "    .dataframe tbody tr th {\n",
       "        vertical-align: top;\n",
       "    }\n",
       "\n",
       "    .dataframe thead th {\n",
       "        text-align: right;\n",
       "    }\n",
       "</style>\n",
       "<table border=\"1\" class=\"dataframe\">\n",
       "  <thead>\n",
       "    <tr style=\"text-align: right;\">\n",
       "      <th></th>\n",
       "      <th>latitude</th>\n",
       "      <th>longitude</th>\n",
       "      <th>price</th>\n",
       "      <th>minimum_nights</th>\n",
       "      <th>number_of_reviews</th>\n",
       "      <th>reviews_per_month</th>\n",
       "      <th>calculated_host_listings_count</th>\n",
       "      <th>availability_365</th>\n",
       "      <th>Entire home/apt</th>\n",
       "      <th>Private room</th>\n",
       "      <th>Shared room</th>\n",
       "      <th>Bronx</th>\n",
       "      <th>Brooklyn</th>\n",
       "      <th>Manhattan</th>\n",
       "      <th>Queens</th>\n",
       "      <th>Staten Island</th>\n",
       "    </tr>\n",
       "  </thead>\n",
       "  <tbody>\n",
       "    <tr>\n",
       "      <td>0</td>\n",
       "      <td>40.64749</td>\n",
       "      <td>-73.97237</td>\n",
       "      <td>149</td>\n",
       "      <td>1</td>\n",
       "      <td>9</td>\n",
       "      <td>0.21</td>\n",
       "      <td>6</td>\n",
       "      <td>365</td>\n",
       "      <td>0.0</td>\n",
       "      <td>1.0</td>\n",
       "      <td>0.0</td>\n",
       "      <td>0.0</td>\n",
       "      <td>1.0</td>\n",
       "      <td>0.0</td>\n",
       "      <td>0.0</td>\n",
       "      <td>0.0</td>\n",
       "    </tr>\n",
       "    <tr>\n",
       "      <td>1</td>\n",
       "      <td>40.75362</td>\n",
       "      <td>-73.98377</td>\n",
       "      <td>225</td>\n",
       "      <td>1</td>\n",
       "      <td>45</td>\n",
       "      <td>0.38</td>\n",
       "      <td>2</td>\n",
       "      <td>355</td>\n",
       "      <td>1.0</td>\n",
       "      <td>0.0</td>\n",
       "      <td>0.0</td>\n",
       "      <td>0.0</td>\n",
       "      <td>0.0</td>\n",
       "      <td>1.0</td>\n",
       "      <td>0.0</td>\n",
       "      <td>0.0</td>\n",
       "    </tr>\n",
       "    <tr>\n",
       "      <td>2</td>\n",
       "      <td>40.80902</td>\n",
       "      <td>-73.94190</td>\n",
       "      <td>150</td>\n",
       "      <td>3</td>\n",
       "      <td>0</td>\n",
       "      <td>NaN</td>\n",
       "      <td>1</td>\n",
       "      <td>365</td>\n",
       "      <td>0.0</td>\n",
       "      <td>1.0</td>\n",
       "      <td>0.0</td>\n",
       "      <td>0.0</td>\n",
       "      <td>0.0</td>\n",
       "      <td>1.0</td>\n",
       "      <td>0.0</td>\n",
       "      <td>0.0</td>\n",
       "    </tr>\n",
       "  </tbody>\n",
       "</table>\n",
       "</div>"
      ],
      "text/plain": [
       "   latitude  longitude  price  minimum_nights  number_of_reviews  \\\n",
       "0  40.64749  -73.97237    149               1                  9   \n",
       "1  40.75362  -73.98377    225               1                 45   \n",
       "2  40.80902  -73.94190    150               3                  0   \n",
       "\n",
       "   reviews_per_month  calculated_host_listings_count  availability_365  \\\n",
       "0               0.21                               6               365   \n",
       "1               0.38                               2               355   \n",
       "2                NaN                               1               365   \n",
       "\n",
       "   Entire home/apt  Private room  Shared room  Bronx  Brooklyn  Manhattan  \\\n",
       "0              0.0           1.0          0.0    0.0       1.0        0.0   \n",
       "1              1.0           0.0          0.0    0.0       0.0        1.0   \n",
       "2              0.0           1.0          0.0    0.0       0.0        1.0   \n",
       "\n",
       "   Queens  Staten Island  \n",
       "0     0.0            0.0  \n",
       "1     0.0            0.0  \n",
       "2     0.0            0.0  "
      ]
     },
     "execution_count": 68,
     "metadata": {},
     "output_type": "execute_result"
    }
   ],
   "source": [
    "#drop price=0\n",
    "data=data[data[y]!=0]\n",
    "data = data.reset_index(drop=True)\n",
    "data.head(3)"
   ]
  },
  {
   "cell_type": "code",
   "execution_count": 69,
   "metadata": {},
   "outputs": [],
   "source": [
    "#fill na of variable\n",
    "data['reviews_per_month']=data['reviews_per_month'].replace(np.nan, 0)\n"
   ]
  },
  {
   "cell_type": "code",
   "execution_count": 70,
   "metadata": {},
   "outputs": [
    {
     "name": "stdout",
     "output_type": "stream",
     "text": [
      "       latitude  longitude  minimum_nights  number_of_reviews  \\\n",
      "35448  40.73449  -73.98473               1                 28   \n",
      "35433  40.70798  -74.00591              29                  0   \n",
      "7561   40.68699  -73.96049               3                146   \n",
      "\n",
      "       reviews_per_month  calculated_host_listings_count  availability_365  \\\n",
      "35448               2.75                               1                25   \n",
      "35433               0.00                              96               189   \n",
      "7561                2.93                               2               135   \n",
      "\n",
      "       Entire home/apt  Private room  Shared room  Bronx  Brooklyn  Manhattan  \\\n",
      "35448              1.0           0.0          0.0    0.0       0.0        1.0   \n",
      "35433              1.0           0.0          0.0    0.0       0.0        1.0   \n",
      "7561               1.0           0.0          0.0    0.0       1.0        0.0   \n",
      "\n",
      "       Queens  Staten Island  \n",
      "35448     0.0            0.0  \n",
      "35433     0.0            0.0  \n",
      "7561      0.0            0.0  \n",
      "--------------\n",
      "35448    250\n",
      "35433    299\n",
      "7561     188\n",
      "Name: price, dtype: int64\n"
     ]
    }
   ],
   "source": [
    "X_train, X_test, y_train, y_test = train_test_split(data.drop(columns=[y]), data[y], test_size=0.3, random_state=1234)\n",
    "print(X_train.head(3))\n",
    "print(\"--------------\")\n",
    "print(y_train.head(3))"
   ]
  },
  {
   "cell_type": "code",
   "execution_count": 97,
   "metadata": {},
   "outputs": [
    {
     "name": "stdout",
     "output_type": "stream",
     "text": [
      "35448   -0.536234\n",
      "35433   -0.536234\n",
      "7561    -0.536233\n",
      "15926   -0.536234\n",
      "6853    -0.536234\n",
      "Name: number_of_reviews, dtype: float64\n"
     ]
    }
   ],
   "source": [
    "#standardization for variables \n",
    "x_nfr=\"number_of_reviews\"\n",
    "scaler_nfr= StandardScaler()\n",
    "print(X_train[x_nfr].head())\n",
    "scaler_nfr.fit(X_train[x_nfr].values.reshape((-1,1)))\n",
    "X_train[x_nfr]=scaler_nfr.transform(X_train[[x_nfr]])\n",
    "X_test[x_nfr]=scaler_nfr.transform(X_test[[x_nfr]])\n",
    "\n",
    "#standardization for variables \n",
    "x_rpm=\"reviews_per_month\"\n",
    "scaler_nfr= StandardScaler()\n",
    "print(X_train[x_nfr].head())\n",
    "scaler_nfr.fit(X_train[x_nfr].values.reshape((-1,1)))\n",
    "X_train[x_nfr]=scaler_nfr.transform(X_train[[x_nfr]])\n",
    "X_test[x_nfr]=scaler_nfr.transform(X_test[[x_nfr]])"
   ]
  },
  {
   "cell_type": "code",
   "execution_count": 96,
   "metadata": {},
   "outputs": [
    {
     "data": {
      "text/plain": [
       "(34218, 15)"
      ]
     },
     "execution_count": 96,
     "metadata": {},
     "output_type": "execute_result"
    }
   ],
   "source": [
    "a=scaler_nfr.transform(X_train[[x_nfr]])\n",
    "X_train[x_nfr]=a\n",
    "X_train.shape"
   ]
  }
 ],
 "metadata": {
  "kernelspec": {
   "display_name": "Python 3",
   "language": "python",
   "name": "python3"
  },
  "language_info": {
   "codemirror_mode": {
    "name": "ipython",
    "version": 3
   },
   "file_extension": ".py",
   "mimetype": "text/x-python",
   "name": "python",
   "nbconvert_exporter": "python",
   "pygments_lexer": "ipython3",
   "version": "3.6.5"
  }
 },
 "nbformat": 4,
 "nbformat_minor": 2
}
