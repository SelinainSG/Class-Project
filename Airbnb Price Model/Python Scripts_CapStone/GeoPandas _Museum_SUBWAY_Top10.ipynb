{
 "cells": [
  {
   "cell_type": "code",
   "execution_count": 106,
   "metadata": {},
   "outputs": [],
   "source": [
    "##universal setting \n",
    "import pandas as pd\n",
    "import matplotlib.pyplot as plt\n",
    "import geopandas as gpd\n",
    "import shapely\n",
    "from shapely import wkt\n",
    "from sklearn import preprocessing\n",
    "import seaborn as sns"
   ]
  },
  {
   "cell_type": "code",
   "execution_count": 18,
   "metadata": {},
   "outputs": [],
   "source": [
    "# data location\n",
    "read_location=\"C:/Selina/Class/(DS_MS)/Capstone/DataSet/\"\n",
    "save_location=\"C:/Selina/Class/(DS_MS)/Capstone/Result/\"\n",
    "#plot color setting (https://matplotlib.org/3.1.1/gallery/color/colormap_reference.html)\n",
    "my_cmap=plt.cm.get_cmap(\"Pastel2\")\n",
    "#for geopandas setting\n",
    "crs={'init': 'epsg:4326'}"
   ]
  },
  {
   "cell_type": "code",
   "execution_count": 19,
   "metadata": {},
   "outputs": [
    {
     "name": "stdout",
     "output_type": "stream",
     "text": [
      "Index(['id', 'name', 'host_id', 'host_name', 'neighbourhood_group',\n",
      "       'neighbourhood', 'latitude', 'longitude', 'room_type', 'price',\n",
      "       'minimum_nights', 'number_of_reviews', 'last_review',\n",
      "       'reviews_per_month', 'calculated_host_listings_count',\n",
      "       'availability_365'],\n",
      "      dtype='object')\n"
     ]
    }
   ],
   "source": [
    "#import data\n",
    "data_metro=gpd.read_file(read_location+\"Subway_Stations.geojson\",crs=crs)\n",
    "data_museum=gpd.read_file(read_location+\"New_York_City_Museums.geojson\",crs=crs)\n",
    "\n",
    "data=pd.read_csv(read_location+\"AB_NYC_2019.csv\")\n",
    "print(data.columns)\n"
   ]
  },
  {
   "cell_type": "code",
   "execution_count": 10,
   "metadata": {},
   "outputs": [
    {
     "data": {
      "text/html": [
       "<div>\n",
       "<style scoped>\n",
       "    .dataframe tbody tr th:only-of-type {\n",
       "        vertical-align: middle;\n",
       "    }\n",
       "\n",
       "    .dataframe tbody tr th {\n",
       "        vertical-align: top;\n",
       "    }\n",
       "\n",
       "    .dataframe thead th {\n",
       "        text-align: right;\n",
       "    }\n",
       "</style>\n",
       "<table border=\"1\" class=\"dataframe\">\n",
       "  <thead>\n",
       "    <tr style=\"text-align: right;\">\n",
       "      <th></th>\n",
       "      <th>city</th>\n",
       "      <th>name</th>\n",
       "      <th>tel</th>\n",
       "      <th>zip</th>\n",
       "      <th>url</th>\n",
       "      <th>address2</th>\n",
       "      <th>adress1</th>\n",
       "      <th>geometry</th>\n",
       "    </tr>\n",
       "  </thead>\n",
       "  <tbody>\n",
       "    <tr>\n",
       "      <td>0</td>\n",
       "      <td>New York</td>\n",
       "      <td>Alexander Hamilton U.S. Custom House</td>\n",
       "      <td>(212) 514-3700</td>\n",
       "      <td>10004.0</td>\n",
       "      <td>http://www.oldnycustomhouse.gov/</td>\n",
       "      <td></td>\n",
       "      <td>1 Bowling Grn</td>\n",
       "      <td>POINT (-74.01375579519738 40.70381621691804)</td>\n",
       "    </tr>\n",
       "    <tr>\n",
       "      <td>1</td>\n",
       "      <td>Staten Island</td>\n",
       "      <td>Alice Austen House Museum</td>\n",
       "      <td>(718) 816-4506</td>\n",
       "      <td>10305.0</td>\n",
       "      <td>http://www.aliceausten.org/</td>\n",
       "      <td></td>\n",
       "      <td>2 Hylan Blvd</td>\n",
       "      <td>POINT (-74.06303178855111 40.61512083775536)</td>\n",
       "    </tr>\n",
       "    <tr>\n",
       "      <td>2</td>\n",
       "      <td>New York</td>\n",
       "      <td>American Academy of Arts and Letters</td>\n",
       "      <td>(212) 368-5900</td>\n",
       "      <td>10032.0</td>\n",
       "      <td>http://www.artsandletters.org/</td>\n",
       "      <td></td>\n",
       "      <td>633 W. 155th St.</td>\n",
       "      <td>POINT (-73.94729768541572 40.83385350075331)</td>\n",
       "    </tr>\n",
       "  </tbody>\n",
       "</table>\n",
       "</div>"
      ],
      "text/plain": [
       "            city                                  name             tel  \\\n",
       "0       New York  Alexander Hamilton U.S. Custom House  (212) 514-3700   \n",
       "1  Staten Island             Alice Austen House Museum  (718) 816-4506   \n",
       "2       New York  American Academy of Arts and Letters  (212) 368-5900   \n",
       "\n",
       "       zip                               url address2           adress1  \\\n",
       "0  10004.0  http://www.oldnycustomhouse.gov/              1 Bowling Grn   \n",
       "1  10305.0       http://www.aliceausten.org/               2 Hylan Blvd   \n",
       "2  10032.0    http://www.artsandletters.org/           633 W. 155th St.   \n",
       "\n",
       "                                       geometry  \n",
       "0  POINT (-74.01375579519738 40.70381621691804)  \n",
       "1  POINT (-74.06303178855111 40.61512083775536)  \n",
       "2  POINT (-73.94729768541572 40.83385350075331)  "
      ]
     },
     "execution_count": 10,
     "metadata": {},
     "output_type": "execute_result"
    }
   ],
   "source": [
    "data_museum.head(3)"
   ]
  },
  {
   "cell_type": "code",
   "execution_count": 7,
   "metadata": {},
   "outputs": [
    {
     "data": {
      "text/html": [
       "<div>\n",
       "<style scoped>\n",
       "    .dataframe tbody tr th:only-of-type {\n",
       "        vertical-align: middle;\n",
       "    }\n",
       "\n",
       "    .dataframe tbody tr th {\n",
       "        vertical-align: top;\n",
       "    }\n",
       "\n",
       "    .dataframe thead th {\n",
       "        text-align: right;\n",
       "    }\n",
       "</style>\n",
       "<table border=\"1\" class=\"dataframe\">\n",
       "  <thead>\n",
       "    <tr style=\"text-align: right;\">\n",
       "      <th></th>\n",
       "      <th>name</th>\n",
       "      <th>url</th>\n",
       "      <th>line</th>\n",
       "      <th>objectid</th>\n",
       "      <th>notes</th>\n",
       "      <th>geometry</th>\n",
       "    </tr>\n",
       "  </thead>\n",
       "  <tbody>\n",
       "    <tr>\n",
       "      <td>0</td>\n",
       "      <td>Astor Pl</td>\n",
       "      <td>http://web.mta.info/nyct/service/</td>\n",
       "      <td>4-6-6 Express</td>\n",
       "      <td>1</td>\n",
       "      <td>4 nights, 6-all times, 6 Express-weekdays AM s...</td>\n",
       "      <td>POINT (-73.99106999861966 40.73005400028978)</td>\n",
       "    </tr>\n",
       "    <tr>\n",
       "      <td>1</td>\n",
       "      <td>Canal St</td>\n",
       "      <td>http://web.mta.info/nyct/service/</td>\n",
       "      <td>4-6-6 Express</td>\n",
       "      <td>2</td>\n",
       "      <td>4 nights, 6-all times, 6 Express-weekdays AM s...</td>\n",
       "      <td>POINT (-74.00019299927328 40.71880300107709)</td>\n",
       "    </tr>\n",
       "    <tr>\n",
       "      <td>2</td>\n",
       "      <td>50th St</td>\n",
       "      <td>http://web.mta.info/nyct/service/</td>\n",
       "      <td>1-2</td>\n",
       "      <td>3</td>\n",
       "      <td>1-all times, 2-nights</td>\n",
       "      <td>POINT (-73.98384899986625 40.76172799961419)</td>\n",
       "    </tr>\n",
       "  </tbody>\n",
       "</table>\n",
       "</div>"
      ],
      "text/plain": [
       "       name                                url           line objectid  \\\n",
       "0  Astor Pl  http://web.mta.info/nyct/service/  4-6-6 Express        1   \n",
       "1  Canal St  http://web.mta.info/nyct/service/  4-6-6 Express        2   \n",
       "2   50th St  http://web.mta.info/nyct/service/            1-2        3   \n",
       "\n",
       "                                               notes  \\\n",
       "0  4 nights, 6-all times, 6 Express-weekdays AM s...   \n",
       "1  4 nights, 6-all times, 6 Express-weekdays AM s...   \n",
       "2                              1-all times, 2-nights   \n",
       "\n",
       "                                       geometry  \n",
       "0  POINT (-73.99106999861966 40.73005400028978)  \n",
       "1  POINT (-74.00019299927328 40.71880300107709)  \n",
       "2  POINT (-73.98384899986625 40.76172799961419)  "
      ]
     },
     "execution_count": 7,
     "metadata": {},
     "output_type": "execute_result"
    }
   ],
   "source": [
    "data_metro.head(3)"
   ]
  },
  {
   "cell_type": "code",
   "execution_count": 8,
   "metadata": {},
   "outputs": [],
   "source": [
    "gdf_airbnb= gpd.GeoDataFrame(data.drop(['latitude', 'longitude'], axis=1),crs=crs,\n",
    "                       geometry=data.apply(lambda row: shapely.geometry.Point((row.longitude, row.latitude)), axis=1))"
   ]
  },
  {
   "cell_type": "code",
   "execution_count": 9,
   "metadata": {},
   "outputs": [
    {
     "data": {
      "text/html": [
       "<div>\n",
       "<style scoped>\n",
       "    .dataframe tbody tr th:only-of-type {\n",
       "        vertical-align: middle;\n",
       "    }\n",
       "\n",
       "    .dataframe tbody tr th {\n",
       "        vertical-align: top;\n",
       "    }\n",
       "\n",
       "    .dataframe thead th {\n",
       "        text-align: right;\n",
       "    }\n",
       "</style>\n",
       "<table border=\"1\" class=\"dataframe\">\n",
       "  <thead>\n",
       "    <tr style=\"text-align: right;\">\n",
       "      <th></th>\n",
       "      <th>id</th>\n",
       "      <th>name</th>\n",
       "      <th>host_id</th>\n",
       "      <th>host_name</th>\n",
       "      <th>neighbourhood_group</th>\n",
       "      <th>neighbourhood</th>\n",
       "      <th>room_type</th>\n",
       "      <th>price</th>\n",
       "      <th>minimum_nights</th>\n",
       "      <th>number_of_reviews</th>\n",
       "      <th>last_review</th>\n",
       "      <th>reviews_per_month</th>\n",
       "      <th>calculated_host_listings_count</th>\n",
       "      <th>availability_365</th>\n",
       "      <th>geometry</th>\n",
       "    </tr>\n",
       "  </thead>\n",
       "  <tbody>\n",
       "    <tr>\n",
       "      <td>0</td>\n",
       "      <td>2539</td>\n",
       "      <td>Clean &amp; quiet apt home by the park</td>\n",
       "      <td>2787</td>\n",
       "      <td>John</td>\n",
       "      <td>Brooklyn</td>\n",
       "      <td>Kensington</td>\n",
       "      <td>Private room</td>\n",
       "      <td>149</td>\n",
       "      <td>1</td>\n",
       "      <td>9</td>\n",
       "      <td>2018-10-19</td>\n",
       "      <td>0.21</td>\n",
       "      <td>6</td>\n",
       "      <td>365</td>\n",
       "      <td>POINT (-73.97237 40.64749)</td>\n",
       "    </tr>\n",
       "    <tr>\n",
       "      <td>1</td>\n",
       "      <td>2595</td>\n",
       "      <td>Skylit Midtown Castle</td>\n",
       "      <td>2845</td>\n",
       "      <td>Jennifer</td>\n",
       "      <td>Manhattan</td>\n",
       "      <td>Midtown</td>\n",
       "      <td>Entire home/apt</td>\n",
       "      <td>225</td>\n",
       "      <td>1</td>\n",
       "      <td>45</td>\n",
       "      <td>2019-05-21</td>\n",
       "      <td>0.38</td>\n",
       "      <td>2</td>\n",
       "      <td>355</td>\n",
       "      <td>POINT (-73.98376999999999 40.75362)</td>\n",
       "    </tr>\n",
       "    <tr>\n",
       "      <td>2</td>\n",
       "      <td>3647</td>\n",
       "      <td>THE VILLAGE OF HARLEM....NEW YORK !</td>\n",
       "      <td>4632</td>\n",
       "      <td>Elisabeth</td>\n",
       "      <td>Manhattan</td>\n",
       "      <td>Harlem</td>\n",
       "      <td>Private room</td>\n",
       "      <td>150</td>\n",
       "      <td>3</td>\n",
       "      <td>0</td>\n",
       "      <td>NaN</td>\n",
       "      <td>NaN</td>\n",
       "      <td>1</td>\n",
       "      <td>365</td>\n",
       "      <td>POINT (-73.9419 40.80902)</td>\n",
       "    </tr>\n",
       "  </tbody>\n",
       "</table>\n",
       "</div>"
      ],
      "text/plain": [
       "     id                                 name  host_id  host_name  \\\n",
       "0  2539   Clean & quiet apt home by the park     2787       John   \n",
       "1  2595                Skylit Midtown Castle     2845   Jennifer   \n",
       "2  3647  THE VILLAGE OF HARLEM....NEW YORK !     4632  Elisabeth   \n",
       "\n",
       "  neighbourhood_group neighbourhood        room_type  price  minimum_nights  \\\n",
       "0            Brooklyn    Kensington     Private room    149               1   \n",
       "1           Manhattan       Midtown  Entire home/apt    225               1   \n",
       "2           Manhattan        Harlem     Private room    150               3   \n",
       "\n",
       "   number_of_reviews last_review  reviews_per_month  \\\n",
       "0                  9  2018-10-19               0.21   \n",
       "1                 45  2019-05-21               0.38   \n",
       "2                  0         NaN                NaN   \n",
       "\n",
       "   calculated_host_listings_count  availability_365  \\\n",
       "0                               6               365   \n",
       "1                               2               355   \n",
       "2                               1               365   \n",
       "\n",
       "                              geometry  \n",
       "0           POINT (-73.97237 40.64749)  \n",
       "1  POINT (-73.98376999999999 40.75362)  \n",
       "2            POINT (-73.9419 40.80902)  "
      ]
     },
     "execution_count": 9,
     "metadata": {},
     "output_type": "execute_result"
    }
   ],
   "source": [
    "gdf_airbnb.head(3)"
   ]
  },
  {
   "cell_type": "code",
   "execution_count": 26,
   "metadata": {},
   "outputs": [
    {
     "name": "stdout",
     "output_type": "stream",
     "text": [
      "3936159.704702377\n",
      "0 POINT (3742549.198234159 1219108.5989754)\n"
     ]
    }
   ],
   "source": [
    "gdf_airbnb[\"geometry\"]\n",
    "for i ,point in enumerate(gdf_airbnb[\"geometry\"]):\n",
    "    if i==0:\n",
    "        print(data_metro.distance(point).min())\n",
    "        print(i,point)\n",
    "#data_metro.distance(gdf_airbnb.loc[[\"geometry\"]][0])"
   ]
  },
  {
   "cell_type": "code",
   "execution_count": 12,
   "metadata": {},
   "outputs": [
    {
     "name": "stdout",
     "output_type": "stream",
     "text": [
      "{'init': 'epsg:4326'}\n",
      "{'init': 'epsg:4326'}\n"
     ]
    }
   ],
   "source": [
    "print(data_metro.crs)\n",
    "print(gdf_airbnb.crs)\n"
   ]
  },
  {
   "cell_type": "code",
   "execution_count": 13,
   "metadata": {},
   "outputs": [
    {
     "data": {
      "text/html": [
       "<div>\n",
       "<style scoped>\n",
       "    .dataframe tbody tr th:only-of-type {\n",
       "        vertical-align: middle;\n",
       "    }\n",
       "\n",
       "    .dataframe tbody tr th {\n",
       "        vertical-align: top;\n",
       "    }\n",
       "\n",
       "    .dataframe thead th {\n",
       "        text-align: right;\n",
       "    }\n",
       "</style>\n",
       "<table border=\"1\" class=\"dataframe\">\n",
       "  <thead>\n",
       "    <tr style=\"text-align: right;\">\n",
       "      <th></th>\n",
       "      <th>id</th>\n",
       "      <th>name</th>\n",
       "      <th>host_id</th>\n",
       "      <th>host_name</th>\n",
       "      <th>neighbourhood_group</th>\n",
       "      <th>neighbourhood</th>\n",
       "      <th>latitude</th>\n",
       "      <th>longitude</th>\n",
       "      <th>room_type</th>\n",
       "      <th>price</th>\n",
       "      <th>minimum_nights</th>\n",
       "      <th>number_of_reviews</th>\n",
       "      <th>last_review</th>\n",
       "      <th>reviews_per_month</th>\n",
       "      <th>calculated_host_listings_count</th>\n",
       "      <th>availability_365</th>\n",
       "      <th>distance to the nearest metro</th>\n",
       "    </tr>\n",
       "  </thead>\n",
       "  <tbody>\n",
       "    <tr>\n",
       "      <td>0</td>\n",
       "      <td>2539</td>\n",
       "      <td>Clean &amp; quiet apt home by the park</td>\n",
       "      <td>2787</td>\n",
       "      <td>John</td>\n",
       "      <td>Brooklyn</td>\n",
       "      <td>Kensington</td>\n",
       "      <td>40.64749</td>\n",
       "      <td>-73.97237</td>\n",
       "      <td>Private room</td>\n",
       "      <td>149</td>\n",
       "      <td>1</td>\n",
       "      <td>9</td>\n",
       "      <td>2018-10-19</td>\n",
       "      <td>0.21</td>\n",
       "      <td>6</td>\n",
       "      <td>365</td>\n",
       "      <td>465.387704</td>\n",
       "    </tr>\n",
       "    <tr>\n",
       "      <td>1</td>\n",
       "      <td>2595</td>\n",
       "      <td>Skylit Midtown Castle</td>\n",
       "      <td>2845</td>\n",
       "      <td>Jennifer</td>\n",
       "      <td>Manhattan</td>\n",
       "      <td>Midtown</td>\n",
       "      <td>40.75362</td>\n",
       "      <td>-73.98377</td>\n",
       "      <td>Entire home/apt</td>\n",
       "      <td>225</td>\n",
       "      <td>1</td>\n",
       "      <td>45</td>\n",
       "      <td>2019-05-21</td>\n",
       "      <td>0.38</td>\n",
       "      <td>2</td>\n",
       "      <td>355</td>\n",
       "      <td>93.434732</td>\n",
       "    </tr>\n",
       "    <tr>\n",
       "      <td>2</td>\n",
       "      <td>3647</td>\n",
       "      <td>THE VILLAGE OF HARLEM....NEW YORK !</td>\n",
       "      <td>4632</td>\n",
       "      <td>Elisabeth</td>\n",
       "      <td>Manhattan</td>\n",
       "      <td>Harlem</td>\n",
       "      <td>40.80902</td>\n",
       "      <td>-73.94190</td>\n",
       "      <td>Private room</td>\n",
       "      <td>150</td>\n",
       "      <td>3</td>\n",
       "      <td>0</td>\n",
       "      <td>NaN</td>\n",
       "      <td>NaN</td>\n",
       "      <td>1</td>\n",
       "      <td>365</td>\n",
       "      <td>334.408650</td>\n",
       "    </tr>\n",
       "  </tbody>\n",
       "</table>\n",
       "</div>"
      ],
      "text/plain": [
       "     id                                 name  host_id  host_name  \\\n",
       "0  2539   Clean & quiet apt home by the park     2787       John   \n",
       "1  2595                Skylit Midtown Castle     2845   Jennifer   \n",
       "2  3647  THE VILLAGE OF HARLEM....NEW YORK !     4632  Elisabeth   \n",
       "\n",
       "  neighbourhood_group neighbourhood  latitude  longitude        room_type  \\\n",
       "0            Brooklyn    Kensington  40.64749  -73.97237     Private room   \n",
       "1           Manhattan       Midtown  40.75362  -73.98377  Entire home/apt   \n",
       "2           Manhattan        Harlem  40.80902  -73.94190     Private room   \n",
       "\n",
       "   price  minimum_nights  number_of_reviews last_review  reviews_per_month  \\\n",
       "0    149               1                  9  2018-10-19               0.21   \n",
       "1    225               1                 45  2019-05-21               0.38   \n",
       "2    150               3                  0         NaN                NaN   \n",
       "\n",
       "   calculated_host_listings_count  availability_365  \\\n",
       "0                               6               365   \n",
       "1                               2               355   \n",
       "2                               1               365   \n",
       "\n",
       "   distance to the nearest metro  \n",
       "0                     465.387704  \n",
       "1                      93.434732  \n",
       "2                     334.408650  "
      ]
     },
     "execution_count": 13,
     "metadata": {},
     "output_type": "execute_result"
    }
   ],
   "source": [
    "#https://gis.stackexchange.com/questions/293310/how-to-use-geoseries-distance-to-get-the-right-answer/293342\n",
    "#add distance to the nearest metro\n",
    "#distance by meters\n",
    "gdf_aibnb_km=gdf_airbnb.to_crs(epsg=3310,inplace=True)\n",
    "data_metro_km=data_metro.to_crs(epsg=3310,inplace=True)\n",
    "data_km=data\n",
    "data_km[\"distance to the nearest metro\"]=gdf_airbnb[\"geometry\"].apply(lambda row: data_metro.distance(row).min())\n",
    "data_km.head(3)"
   ]
  },
  {
   "cell_type": "code",
   "execution_count": 14,
   "metadata": {},
   "outputs": [
    {
     "name": "stdout",
     "output_type": "stream",
     "text": [
      "{'init': 'epsg:3310', 'no_defs': True}\n",
      "{'init': 'epsg:3310', 'no_defs': True}\n"
     ]
    }
   ],
   "source": [
    "print(data_metro.crs)\n",
    "print(gdf_airbnb.crs)"
   ]
  },
  {
   "cell_type": "code",
   "execution_count": 21,
   "metadata": {},
   "outputs": [
    {
     "name": "stdout",
     "output_type": "stream",
     "text": [
      "{'init': 'epsg:3310', 'no_defs': True}\n"
     ]
    }
   ],
   "source": [
    "##add distance to the nearest metro\n",
    "#distance by meters\n",
    "data_museum.to_crs(epsg=3310,inplace=True)\n",
    "print(data_museum.crs)"
   ]
  },
  {
   "cell_type": "code",
   "execution_count": 33,
   "metadata": {},
   "outputs": [],
   "source": [
    "#define function\n",
    "def num_muse(point,km):\n",
    "    dist_museum=data_museum.distance(point)\n",
    "    num=sum(dist_museum<=km)\n",
    "    return num"
   ]
  },
  {
   "cell_type": "code",
   "execution_count": 34,
   "metadata": {},
   "outputs": [],
   "source": [
    "data_km[\"number of museum within 500\"]=gdf_airbnb[\"geometry\"].apply(lambda row: num_muse(row,500))"
   ]
  },
  {
   "cell_type": "code",
   "execution_count": 35,
   "metadata": {},
   "outputs": [
    {
     "data": {
      "text/html": [
       "<div>\n",
       "<style scoped>\n",
       "    .dataframe tbody tr th:only-of-type {\n",
       "        vertical-align: middle;\n",
       "    }\n",
       "\n",
       "    .dataframe tbody tr th {\n",
       "        vertical-align: top;\n",
       "    }\n",
       "\n",
       "    .dataframe thead th {\n",
       "        text-align: right;\n",
       "    }\n",
       "</style>\n",
       "<table border=\"1\" class=\"dataframe\">\n",
       "  <thead>\n",
       "    <tr style=\"text-align: right;\">\n",
       "      <th></th>\n",
       "      <th>id</th>\n",
       "      <th>name</th>\n",
       "      <th>host_id</th>\n",
       "      <th>host_name</th>\n",
       "      <th>neighbourhood_group</th>\n",
       "      <th>neighbourhood</th>\n",
       "      <th>latitude</th>\n",
       "      <th>longitude</th>\n",
       "      <th>room_type</th>\n",
       "      <th>price</th>\n",
       "      <th>minimum_nights</th>\n",
       "      <th>number_of_reviews</th>\n",
       "      <th>last_review</th>\n",
       "      <th>reviews_per_month</th>\n",
       "      <th>calculated_host_listings_count</th>\n",
       "      <th>availability_365</th>\n",
       "      <th>distance to the nearest metro</th>\n",
       "      <th>number of museum within 500</th>\n",
       "    </tr>\n",
       "  </thead>\n",
       "  <tbody>\n",
       "    <tr>\n",
       "      <td>0</td>\n",
       "      <td>2539</td>\n",
       "      <td>Clean &amp; quiet apt home by the park</td>\n",
       "      <td>2787</td>\n",
       "      <td>John</td>\n",
       "      <td>Brooklyn</td>\n",
       "      <td>Kensington</td>\n",
       "      <td>40.64749</td>\n",
       "      <td>-73.97237</td>\n",
       "      <td>Private room</td>\n",
       "      <td>149</td>\n",
       "      <td>1</td>\n",
       "      <td>9</td>\n",
       "      <td>2018-10-19</td>\n",
       "      <td>0.21</td>\n",
       "      <td>6</td>\n",
       "      <td>365</td>\n",
       "      <td>465.387704</td>\n",
       "      <td>0</td>\n",
       "    </tr>\n",
       "    <tr>\n",
       "      <td>1</td>\n",
       "      <td>2595</td>\n",
       "      <td>Skylit Midtown Castle</td>\n",
       "      <td>2845</td>\n",
       "      <td>Jennifer</td>\n",
       "      <td>Manhattan</td>\n",
       "      <td>Midtown</td>\n",
       "      <td>40.75362</td>\n",
       "      <td>-73.98377</td>\n",
       "      <td>Entire home/apt</td>\n",
       "      <td>225</td>\n",
       "      <td>1</td>\n",
       "      <td>45</td>\n",
       "      <td>2019-05-21</td>\n",
       "      <td>0.38</td>\n",
       "      <td>2</td>\n",
       "      <td>355</td>\n",
       "      <td>93.434732</td>\n",
       "      <td>3</td>\n",
       "    </tr>\n",
       "    <tr>\n",
       "      <td>2</td>\n",
       "      <td>3647</td>\n",
       "      <td>THE VILLAGE OF HARLEM....NEW YORK !</td>\n",
       "      <td>4632</td>\n",
       "      <td>Elisabeth</td>\n",
       "      <td>Manhattan</td>\n",
       "      <td>Harlem</td>\n",
       "      <td>40.80902</td>\n",
       "      <td>-73.94190</td>\n",
       "      <td>Private room</td>\n",
       "      <td>150</td>\n",
       "      <td>3</td>\n",
       "      <td>0</td>\n",
       "      <td>NaN</td>\n",
       "      <td>NaN</td>\n",
       "      <td>1</td>\n",
       "      <td>365</td>\n",
       "      <td>334.408650</td>\n",
       "      <td>1</td>\n",
       "    </tr>\n",
       "  </tbody>\n",
       "</table>\n",
       "</div>"
      ],
      "text/plain": [
       "     id                                 name  host_id  host_name  \\\n",
       "0  2539   Clean & quiet apt home by the park     2787       John   \n",
       "1  2595                Skylit Midtown Castle     2845   Jennifer   \n",
       "2  3647  THE VILLAGE OF HARLEM....NEW YORK !     4632  Elisabeth   \n",
       "\n",
       "  neighbourhood_group neighbourhood  latitude  longitude        room_type  \\\n",
       "0            Brooklyn    Kensington  40.64749  -73.97237     Private room   \n",
       "1           Manhattan       Midtown  40.75362  -73.98377  Entire home/apt   \n",
       "2           Manhattan        Harlem  40.80902  -73.94190     Private room   \n",
       "\n",
       "   price  minimum_nights  number_of_reviews last_review  reviews_per_month  \\\n",
       "0    149               1                  9  2018-10-19               0.21   \n",
       "1    225               1                 45  2019-05-21               0.38   \n",
       "2    150               3                  0         NaN                NaN   \n",
       "\n",
       "   calculated_host_listings_count  availability_365  \\\n",
       "0                               6               365   \n",
       "1                               2               355   \n",
       "2                               1               365   \n",
       "\n",
       "   distance to the nearest metro  number of museum within 500  \n",
       "0                     465.387704                            0  \n",
       "1                      93.434732                            3  \n",
       "2                     334.408650                            1  "
      ]
     },
     "execution_count": 35,
     "metadata": {},
     "output_type": "execute_result"
    }
   ],
   "source": [
    "data_km.head(3)"
   ]
  },
  {
   "cell_type": "code",
   "execution_count": 71,
   "metadata": {},
   "outputs": [
    {
     "name": "stdout",
     "output_type": "stream",
     "text": [
      "Statue of Liberty, Flagpole Plaza, Manhattan Community Board 1, Manhattan, New York County, NYC, New York, 10004, United States of America\n",
      "40.6892532 -74.0445481714432\n"
     ]
    }
   ],
   "source": [
    "from geopy.geocoders import Nominatim\n",
    "geolocator = Nominatim(user_agent=\"googlev3\")\n",
    "location = geolocator.geocode(\"Statue of Liberty\")\n",
    "print(location.address)\n",
    "print(location.latitude, location.longitude)"
   ]
  },
  {
   "cell_type": "code",
   "execution_count": 78,
   "metadata": {},
   "outputs": [
    {
     "name": "stdout",
     "output_type": "stream",
     "text": [
      "   rank                name\n",
      "0     1   Statue of Liberty\n",
      "1     2        Central Park\n",
      "2     3  Rockefeller Center\n"
     ]
    }
   ],
   "source": [
    "#top 10 popular scene\n",
    "top_10=[\"Statue of Liberty\",\"Central Park\",\"Rockefeller Center\",\"Metropolitan Museum of Art\",\"Shubert Alley\"\n",
    "       ,\"Empire State Building\",\"9/11 Memorial and Museum\",\"High Line\",\"Times Square\",\"Brooklyn Bridge\"]\n",
    "pd_top10={\"rank\":range(1,len(top_10)+1),\"name\":top_10}\n",
    "pd_top10=pd.DataFrame(pd_top10)\n",
    "print(pd_top10.head(3))"
   ]
  },
  {
   "cell_type": "code",
   "execution_count": 56,
   "metadata": {},
   "outputs": [],
   "source": [
    "def detail_GIS(text,num):\n",
    "    location = geolocator.geocode(text)\n",
    "    lon=float(location.longitude)\n",
    "    lat=float(location.latitude)\n",
    "    address=location.address\n",
    "    a=[lon,lat,address][num]\n",
    "    return a"
   ]
  },
  {
   "cell_type": "code",
   "execution_count": 77,
   "metadata": {},
   "outputs": [
    {
     "name": "stdout",
     "output_type": "stream",
     "text": [
      "Statue of Liberty _____ -74.0445481714432\n",
      "--------------------------\n",
      "Central Park _____ -73.9645715841571\n",
      "--------------------------\n",
      "Rockefeller Center _____ -73.9799568611638\n",
      "--------------------------\n",
      "Metropolitan Museum of Art _____ -73.9633641138519\n",
      "--------------------------\n",
      "Shubert Alley _____ -73.9867726\n",
      "--------------------------\n",
      "Empire State Building _____ -73.9856546198733\n",
      "--------------------------\n",
      "9/11 Memorial and Museum _____ -74.0126374430329\n",
      "--------------------------\n",
      "High Line _____ -74.0048911708541\n",
      "--------------------------\n",
      "Times Square _____ -73.9858550354592\n",
      "--------------------------\n",
      "Brooklyn Bridge _____ -73.9969304206658\n",
      "--------------------------\n",
      "0             Statue of Liberty\n",
      "1                  Central Park\n",
      "2            Rockefeller Center\n",
      "3    Metropolitan Museum of Art\n",
      "4        Broadway Shubert Alley\n",
      "5         Empire State Building\n",
      "6      9/11 Memorial and Museum\n",
      "7                     High Line\n",
      "8                  Times Square\n",
      "9               Brooklyn Bridge\n",
      "Name: name, dtype: object\n"
     ]
    }
   ],
   "source": [
    "#top_10[\"longitude\"]\n",
    "for i in top_10:\n",
    "    location = geolocator.geocode(i)\n",
    "    print(i,\"_____\",location.longitude)\n",
    "    print(\"--------------------------\")\n",
    "#a = pd_top10[\"name\"].map(lambda row:detail_GIS(row,0))\n",
    "print(a)"
   ]
  },
  {
   "cell_type": "code",
   "execution_count": 81,
   "metadata": {},
   "outputs": [],
   "source": [
    "pd_top10[\"longitude\"] = pd_top10[\"name\"].map(lambda row:detail_GIS(row,0))\n",
    "pd_top10[\"latitude\"] = pd_top10[\"name\"].map(lambda row:detail_GIS(row,1))\n",
    "pd_top10[\"address\"] = pd_top10[\"name\"].map(lambda row:detail_GIS(row,2))"
   ]
  },
  {
   "cell_type": "code",
   "execution_count": 85,
   "metadata": {},
   "outputs": [
    {
     "name": "stdout",
     "output_type": "stream",
     "text": [
      "   rank                name  longitude   latitude  \\\n",
      "0     1   Statue of Liberty -74.044548  40.689253   \n",
      "1     2        Central Park -73.964572  40.783848   \n",
      "2     3  Rockefeller Center -73.979957  40.759258   \n",
      "\n",
      "                                             address  \n",
      "0  Statue of Liberty, Flagpole Plaza, Manhattan C...  \n",
      "1  Central Park, Manhattan, New York County, NYC,...  \n",
      "2  Rockefeller Center, 45, Rockefeller Plaza, Mid...  \n",
      "   rank                        name  \\\n",
      "0     1           Statue of Liberty   \n",
      "1     2                Central Park   \n",
      "2     3          Rockefeller Center   \n",
      "3     4  Metropolitan Museum of Art   \n",
      "4     5               Shubert Alley   \n",
      "\n",
      "                                             address  \\\n",
      "0  Statue of Liberty, Flagpole Plaza, Manhattan C...   \n",
      "1  Central Park, Manhattan, New York County, NYC,...   \n",
      "2  Rockefeller Center, 45, Rockefeller Plaza, Mid...   \n",
      "3  The Met, 1000, 5th Avenue, Manhattan Community...   \n",
      "4  Shubert Alley, Times Square, Theater District,...   \n",
      "\n",
      "                                      geometry  \n",
      "0    POINT (3742549.198234159 1219108.5989754)  \n",
      "1  POINT (3736199.132970774 1229080.799485974)  \n",
      "2  POINT (3736455.413420997 1236170.197882243)  \n",
      "3  POINT (3741541.537442569 1223303.361944258)  \n",
      "4   POINT (3736844.168248167 1235056.05920616)  \n"
     ]
    }
   ],
   "source": [
    "print(pd_top10.head(3))\n",
    "gdf_top10= gpd.GeoDataFrame(pd_top10.drop(['latitude', 'longitude'], axis=1),crs=crs,\n",
    "                       geometry=data.apply(lambda row: shapely.geometry.Point((row.longitude, row.latitude)), axis=1))\n",
    "gdf_top10.to_crs(epsg=3310,inplace=True)\n",
    "print(gdf_top10.head())"
   ]
  },
  {
   "cell_type": "code",
   "execution_count": 86,
   "metadata": {},
   "outputs": [],
   "source": [
    "data_km[\"distance to the nearest popular scene\"]=gdf_airbnb[\"geometry\"].apply(lambda row: gdf_top10.distance(row).min())"
   ]
  },
  {
   "cell_type": "code",
   "execution_count": 87,
   "metadata": {},
   "outputs": [
    {
     "data": {
      "text/html": [
       "<div>\n",
       "<style scoped>\n",
       "    .dataframe tbody tr th:only-of-type {\n",
       "        vertical-align: middle;\n",
       "    }\n",
       "\n",
       "    .dataframe tbody tr th {\n",
       "        vertical-align: top;\n",
       "    }\n",
       "\n",
       "    .dataframe thead th {\n",
       "        text-align: right;\n",
       "    }\n",
       "</style>\n",
       "<table border=\"1\" class=\"dataframe\">\n",
       "  <thead>\n",
       "    <tr style=\"text-align: right;\">\n",
       "      <th></th>\n",
       "      <th>id</th>\n",
       "      <th>host_id</th>\n",
       "      <th>latitude</th>\n",
       "      <th>longitude</th>\n",
       "      <th>price</th>\n",
       "      <th>minimum_nights</th>\n",
       "      <th>number_of_reviews</th>\n",
       "      <th>reviews_per_month</th>\n",
       "      <th>calculated_host_listings_count</th>\n",
       "      <th>availability_365</th>\n",
       "      <th>distance to the nearest metro</th>\n",
       "      <th>number of museum within 500</th>\n",
       "      <th>distance to the nearest popular scene</th>\n",
       "    </tr>\n",
       "  </thead>\n",
       "  <tbody>\n",
       "    <tr>\n",
       "      <td>count</td>\n",
       "      <td>4.889500e+04</td>\n",
       "      <td>4.889500e+04</td>\n",
       "      <td>48895.000000</td>\n",
       "      <td>48895.000000</td>\n",
       "      <td>48895.000000</td>\n",
       "      <td>48895.000000</td>\n",
       "      <td>48895.000000</td>\n",
       "      <td>38843.000000</td>\n",
       "      <td>48895.000000</td>\n",
       "      <td>48895.000000</td>\n",
       "      <td>48895.000000</td>\n",
       "      <td>48895.000000</td>\n",
       "      <td>48895.000000</td>\n",
       "    </tr>\n",
       "    <tr>\n",
       "      <td>mean</td>\n",
       "      <td>1.901714e+07</td>\n",
       "      <td>6.762001e+07</td>\n",
       "      <td>40.728949</td>\n",
       "      <td>-73.952170</td>\n",
       "      <td>152.720687</td>\n",
       "      <td>7.029962</td>\n",
       "      <td>23.274466</td>\n",
       "      <td>1.373221</td>\n",
       "      <td>7.143982</td>\n",
       "      <td>112.781327</td>\n",
       "      <td>471.873197</td>\n",
       "      <td>0.583536</td>\n",
       "      <td>2831.134805</td>\n",
       "    </tr>\n",
       "    <tr>\n",
       "      <td>std</td>\n",
       "      <td>1.098311e+07</td>\n",
       "      <td>7.861097e+07</td>\n",
       "      <td>0.054530</td>\n",
       "      <td>0.046157</td>\n",
       "      <td>240.154170</td>\n",
       "      <td>20.510550</td>\n",
       "      <td>44.550582</td>\n",
       "      <td>1.680442</td>\n",
       "      <td>32.952519</td>\n",
       "      <td>131.622289</td>\n",
       "      <td>845.174836</td>\n",
       "      <td>1.301554</td>\n",
       "      <td>2989.973692</td>\n",
       "    </tr>\n",
       "    <tr>\n",
       "      <td>min</td>\n",
       "      <td>2.539000e+03</td>\n",
       "      <td>2.438000e+03</td>\n",
       "      <td>40.499790</td>\n",
       "      <td>-74.244420</td>\n",
       "      <td>0.000000</td>\n",
       "      <td>1.000000</td>\n",
       "      <td>0.000000</td>\n",
       "      <td>0.010000</td>\n",
       "      <td>1.000000</td>\n",
       "      <td>0.000000</td>\n",
       "      <td>0.907626</td>\n",
       "      <td>0.000000</td>\n",
       "      <td>0.000000</td>\n",
       "    </tr>\n",
       "    <tr>\n",
       "      <td>25%</td>\n",
       "      <td>9.471945e+06</td>\n",
       "      <td>7.822033e+06</td>\n",
       "      <td>40.690100</td>\n",
       "      <td>-73.983070</td>\n",
       "      <td>69.000000</td>\n",
       "      <td>1.000000</td>\n",
       "      <td>1.000000</td>\n",
       "      <td>0.190000</td>\n",
       "      <td>1.000000</td>\n",
       "      <td>0.000000</td>\n",
       "      <td>202.666663</td>\n",
       "      <td>0.000000</td>\n",
       "      <td>1094.858492</td>\n",
       "    </tr>\n",
       "    <tr>\n",
       "      <td>50%</td>\n",
       "      <td>1.967728e+07</td>\n",
       "      <td>3.079382e+07</td>\n",
       "      <td>40.723070</td>\n",
       "      <td>-73.955680</td>\n",
       "      <td>106.000000</td>\n",
       "      <td>3.000000</td>\n",
       "      <td>5.000000</td>\n",
       "      <td>0.720000</td>\n",
       "      <td>1.000000</td>\n",
       "      <td>45.000000</td>\n",
       "      <td>314.123081</td>\n",
       "      <td>0.000000</td>\n",
       "      <td>2020.346189</td>\n",
       "    </tr>\n",
       "    <tr>\n",
       "      <td>75%</td>\n",
       "      <td>2.915218e+07</td>\n",
       "      <td>1.074344e+08</td>\n",
       "      <td>40.763115</td>\n",
       "      <td>-73.936275</td>\n",
       "      <td>175.000000</td>\n",
       "      <td>5.000000</td>\n",
       "      <td>24.000000</td>\n",
       "      <td>2.020000</td>\n",
       "      <td>2.000000</td>\n",
       "      <td>227.000000</td>\n",
       "      <td>468.187778</td>\n",
       "      <td>1.000000</td>\n",
       "      <td>3201.654456</td>\n",
       "    </tr>\n",
       "    <tr>\n",
       "      <td>max</td>\n",
       "      <td>3.648724e+07</td>\n",
       "      <td>2.743213e+08</td>\n",
       "      <td>40.913060</td>\n",
       "      <td>-73.712990</td>\n",
       "      <td>10000.000000</td>\n",
       "      <td>1250.000000</td>\n",
       "      <td>629.000000</td>\n",
       "      <td>58.500000</td>\n",
       "      <td>327.000000</td>\n",
       "      <td>365.000000</td>\n",
       "      <td>22012.718775</td>\n",
       "      <td>8.000000</td>\n",
       "      <td>28032.483075</td>\n",
       "    </tr>\n",
       "  </tbody>\n",
       "</table>\n",
       "</div>"
      ],
      "text/plain": [
       "                 id       host_id      latitude     longitude         price  \\\n",
       "count  4.889500e+04  4.889500e+04  48895.000000  48895.000000  48895.000000   \n",
       "mean   1.901714e+07  6.762001e+07     40.728949    -73.952170    152.720687   \n",
       "std    1.098311e+07  7.861097e+07      0.054530      0.046157    240.154170   \n",
       "min    2.539000e+03  2.438000e+03     40.499790    -74.244420      0.000000   \n",
       "25%    9.471945e+06  7.822033e+06     40.690100    -73.983070     69.000000   \n",
       "50%    1.967728e+07  3.079382e+07     40.723070    -73.955680    106.000000   \n",
       "75%    2.915218e+07  1.074344e+08     40.763115    -73.936275    175.000000   \n",
       "max    3.648724e+07  2.743213e+08     40.913060    -73.712990  10000.000000   \n",
       "\n",
       "       minimum_nights  number_of_reviews  reviews_per_month  \\\n",
       "count    48895.000000       48895.000000       38843.000000   \n",
       "mean         7.029962          23.274466           1.373221   \n",
       "std         20.510550          44.550582           1.680442   \n",
       "min          1.000000           0.000000           0.010000   \n",
       "25%          1.000000           1.000000           0.190000   \n",
       "50%          3.000000           5.000000           0.720000   \n",
       "75%          5.000000          24.000000           2.020000   \n",
       "max       1250.000000         629.000000          58.500000   \n",
       "\n",
       "       calculated_host_listings_count  availability_365  \\\n",
       "count                    48895.000000      48895.000000   \n",
       "mean                         7.143982        112.781327   \n",
       "std                         32.952519        131.622289   \n",
       "min                          1.000000          0.000000   \n",
       "25%                          1.000000          0.000000   \n",
       "50%                          1.000000         45.000000   \n",
       "75%                          2.000000        227.000000   \n",
       "max                        327.000000        365.000000   \n",
       "\n",
       "       distance to the nearest metro  number of museum within 500  \\\n",
       "count                   48895.000000                 48895.000000   \n",
       "mean                      471.873197                     0.583536   \n",
       "std                       845.174836                     1.301554   \n",
       "min                         0.907626                     0.000000   \n",
       "25%                       202.666663                     0.000000   \n",
       "50%                       314.123081                     0.000000   \n",
       "75%                       468.187778                     1.000000   \n",
       "max                     22012.718775                     8.000000   \n",
       "\n",
       "       distance to the nearest popular scene  \n",
       "count                           48895.000000  \n",
       "mean                             2831.134805  \n",
       "std                              2989.973692  \n",
       "min                                 0.000000  \n",
       "25%                              1094.858492  \n",
       "50%                              2020.346189  \n",
       "75%                              3201.654456  \n",
       "max                             28032.483075  "
      ]
     },
     "execution_count": 87,
     "metadata": {},
     "output_type": "execute_result"
    }
   ],
   "source": [
    "data_km.to_csv(read_location+\"AB_NYC_2019_GIS_km_3.csv\",index=False)\n",
    "data_km.describe().to_csv(save_location+\"GIS_km_summary_3.csv\",index=True)\n",
    "data_km.describe()"
   ]
  },
  {
   "cell_type": "code",
   "execution_count": 89,
   "metadata": {},
   "outputs": [],
   "source": [
    "#define function\n",
    "def num_top(point,km):\n",
    "    dist_museum=gdf_top10.distance(point)\n",
    "    num=sum(dist_museum<=km)\n",
    "    return num"
   ]
  },
  {
   "cell_type": "code",
   "execution_count": 90,
   "metadata": {},
   "outputs": [],
   "source": [
    "data_km[\"number of top10 within\"]=gdf_airbnb[\"geometry\"].apply(lambda row: num_top(row,500))"
   ]
  },
  {
   "cell_type": "code",
   "execution_count": 99,
   "metadata": {},
   "outputs": [
    {
     "data": {
      "text/plain": [
       "0    1\n",
       "1    1\n",
       "2    1\n",
       "Name: number of top10 within 500, dtype: int64"
      ]
     },
     "execution_count": 99,
     "metadata": {},
     "output_type": "execute_result"
    }
   ],
   "source": [
    "data_km.rename(columns={\"number of top10 within\":\"number of top10 within 500\"},inplace=True)\n",
    "data_km[\"number of top10 within 500\"].head(3)"
   ]
  },
  {
   "cell_type": "code",
   "execution_count": 120,
   "metadata": {},
   "outputs": [
    {
     "name": "stdout",
     "output_type": "stream",
     "text": [
      "                                            the_geom  BoroCode  CountyFIPS  \\\n",
      "0  MULTIPOLYGON (((-73.97604935657381 40.63127590...         3          47   \n",
      "1  MULTIPOLYGON (((-73.80379022888246 40.77561011...         4          81   \n",
      "2  MULTIPOLYGON (((-73.8610972440186 40.763664477...         4          81   \n",
      "\n",
      "   BoroName NTACode        NTAName    Shape_Leng    Shape_Area  \n",
      "0  Brooklyn    BK88   Borough Park  39247.228074  5.400502e+07  \n",
      "1    Queens    QN51    Murray Hill  33266.904811  5.248828e+07  \n",
      "2    Queens    QN27  East Elmhurst  19816.711538  1.972685e+07  \n",
      "gdp-------------------------------------\n",
      "                                            the_geom  BoroCode  CountyFIPS  \\\n",
      "0  (POLYGON ((-73.97604935657381 40.6312759056467...         3          47   \n",
      "1  (POLYGON ((-73.80379022888246 40.7756101117924...         4          81   \n",
      "2  (POLYGON ((-73.86109724401859 40.7636644770877...         4          81   \n",
      "\n",
      "   BoroName NTACode        NTAName    Shape_Leng    Shape_Area  \n",
      "0  Brooklyn    BK88   Borough Park  39247.228074  5.400502e+07  \n",
      "1    Queens    QN51    Murray Hill  33266.904811  5.248828e+07  \n",
      "2    Queens    QN27  East Elmhurst  19816.711538  1.972685e+07  \n"
     ]
    }
   ],
   "source": [
    "#correct subarea\n",
    "nbhoods = pd.read_csv(read_location+\"nynta.csv\")\n",
    "#nbhoods.rename(columns={'NTAName':'neighbourhood'}, inplace=True)\n",
    "print(nbhoods.head(3))\n",
    "nbhoods['the_geom'] = nbhoods['the_geom'].apply(wkt.loads)\n",
    "gdp_nbhoods = gpd.GeoDataFrame(nbhoods, geometry='the_geom',crs=crs)\n",
    "print(\"gdp-------------------------------------\")\n",
    "print(gdp_nbhoods.head(3))"
   ]
  },
  {
   "cell_type": "code",
   "execution_count": 145,
   "metadata": {},
   "outputs": [
    {
     "name": "stdout",
     "output_type": "stream",
     "text": [
      "{'init': 'epsg:4326', 'no_defs': True}\n",
      "{'init': 'epsg:4326'}\n",
      "{'init': 'epsg:4326', 'no_defs': True}\n",
      "{'init': 'epsg:4326'}\n"
     ]
    },
    {
     "data": {
      "text/plain": [
       "RangeIndex(start=0, stop=48895, step=1)"
      ]
     },
     "execution_count": 145,
     "metadata": {},
     "output_type": "execute_result"
    }
   ],
   "source": [
    "print(gdf_airbnb.crs)\n",
    "print(gdp_nbhoods.crs)\n",
    "gdf_airbnb.to_crs(epsg=4326,inplace=True)\n",
    "print(gdf_airbnb.crs)\n",
    "print(gdp_nbhoods.crs)\n",
    "gdf_airbnb.index\n",
    "#data_nbh_temp=gpd.sjoin(gdf_airbnb,gdp_nbhoods,how=\"inner\", op='intersects')\n",
    "#print(data_nbh_temp)"
   ]
  },
  {
   "cell_type": "code",
   "execution_count": 162,
   "metadata": {},
   "outputs": [
    {
     "name": "stdout",
     "output_type": "stream",
     "text": [
      "                                            the_geom  BoroCode  CountyFIPS  \\\n",
      "0  (POLYGON ((-73.97604935657381 40.6312759056467...         3          47   \n",
      "1  (POLYGON ((-73.80379022888246 40.7756101117924...         4          81   \n",
      "2  (POLYGON ((-73.86109724401859 40.7636644770877...         4          81   \n",
      "\n",
      "   BoroName NTACode        NTAName    Shape_Leng    Shape_Area  \n",
      "0  Brooklyn    BK88   Borough Park  39247.228074  5.400502e+07  \n",
      "1    Queens    QN51    Murray Hill  33266.904811  5.248828e+07  \n",
      "2    Queens    QN27  East Elmhurst  19816.711538  1.972685e+07  \n"
     ]
    },
    {
     "name": "stderr",
     "output_type": "stream",
     "text": [
      "C:\\Users\\Selina\\Anaconda3\\lib\\site-packages\\geopandas\\tools\\sjoin.py:44: UserWarning: CRS of frames being joined does not match!\n",
      "  warn('CRS of frames being joined does not match!')\n"
     ]
    },
    {
     "name": "stdout",
     "output_type": "stream",
     "text": [
      "        id                                name  host_id host_name  \\\n",
      "0     2539  Clean & quiet apt home by the park     2787      John   \n",
      "25    8505  Sunny Bedroom Across Prospect Park    25326   Gregory   \n",
      "226  58062                   South Slope Green   277394     Linda   \n",
      "\n",
      "    neighbourhood_group    neighbourhood     room_type  price  minimum_nights  \\\n",
      "0              Brooklyn       Kensington  Private room    149               1   \n",
      "25             Brooklyn  Windsor Terrace  Private room     60               1   \n",
      "226            Brooklyn  Windsor Terrace  Private room    135               2   \n",
      "\n",
      "     number_of_reviews  ... availability_365  \\\n",
      "0                    9  ...              365   \n",
      "25                  19  ...               85   \n",
      "226                 21  ...              272   \n",
      "\n",
      "                                         geometry  index_right  BoroCode  \\\n",
      "0    POINT (-73.97237000000001 40.64749000000001)          100         3   \n",
      "25            POINT (-73.97519 40.65599000000001)          100         3   \n",
      "226  POINT (-73.98397000000003 40.65849999999994)          100         3   \n",
      "\n",
      "    CountyFIPS  BoroName  NTACode          NTAName    Shape_Leng    Shape_Area  \n",
      "0           47  Brooklyn     BK40  Windsor Terrace  19033.671459  1.404167e+07  \n",
      "25          47  Brooklyn     BK40  Windsor Terrace  19033.671459  1.404167e+07  \n",
      "226         47  Brooklyn     BK40  Windsor Terrace  19033.671459  1.404167e+07  \n",
      "\n",
      "[3 rows x 23 columns]\n"
     ]
    }
   ],
   "source": [
    "print(gdp_nbhoods.head(3))\n",
    "data_nbh_temp=gpd.sjoin(gdf_airbnb,gdp_nbhoods,how=\"inner\", op='intersects')\n",
    "print(data_nbh_temp.head(3))\n",
    "#data_nbh_temp.to_file(save_location+\"Test.geojson\", driver='GeoJSON')"
   ]
  },
  {
   "cell_type": "code",
   "execution_count": 194,
   "metadata": {},
   "outputs": [
    {
     "data": {
      "text/html": [
       "<div>\n",
       "<style scoped>\n",
       "    .dataframe tbody tr th:only-of-type {\n",
       "        vertical-align: middle;\n",
       "    }\n",
       "\n",
       "    .dataframe tbody tr th {\n",
       "        vertical-align: top;\n",
       "    }\n",
       "\n",
       "    .dataframe thead th {\n",
       "        text-align: right;\n",
       "    }\n",
       "</style>\n",
       "<table border=\"1\" class=\"dataframe\">\n",
       "  <thead>\n",
       "    <tr style=\"text-align: right;\">\n",
       "      <th></th>\n",
       "      <th>id</th>\n",
       "      <th>name</th>\n",
       "      <th>host_id</th>\n",
       "      <th>host_name</th>\n",
       "      <th>neighbourhood_group</th>\n",
       "      <th>neighbourhood</th>\n",
       "      <th>room_type</th>\n",
       "      <th>price</th>\n",
       "      <th>minimum_nights</th>\n",
       "      <th>number_of_reviews</th>\n",
       "      <th>...</th>\n",
       "      <th>availability_365</th>\n",
       "      <th>geometry</th>\n",
       "      <th>index_right</th>\n",
       "      <th>BoroCode</th>\n",
       "      <th>CountyFIPS</th>\n",
       "      <th>BoroName</th>\n",
       "      <th>NTACode</th>\n",
       "      <th>NTAName</th>\n",
       "      <th>Shape_Leng</th>\n",
       "      <th>Shape_Area</th>\n",
       "    </tr>\n",
       "  </thead>\n",
       "  <tbody>\n",
       "  </tbody>\n",
       "</table>\n",
       "<p>0 rows × 23 columns</p>\n",
       "</div>"
      ],
      "text/plain": [
       "Empty GeoDataFrame\n",
       "Columns: [id, name, host_id, host_name, neighbourhood_group, neighbourhood, room_type, price, minimum_nights, number_of_reviews, last_review, reviews_per_month, calculated_host_listings_count, availability_365, geometry, index_right, BoroCode, CountyFIPS, BoroName, NTACode, NTAName, Shape_Leng, Shape_Area]\n",
       "Index: []\n",
       "\n",
       "[0 rows x 23 columns]"
      ]
     },
     "execution_count": 194,
     "metadata": {},
     "output_type": "execute_result"
    }
   ],
   "source": [
    "data_nbh_temp[data_nbh_temp[\"NTAName\"].isnull()]"
   ]
  },
  {
   "cell_type": "code",
   "execution_count": 191,
   "metadata": {},
   "outputs": [
    {
     "name": "stdout",
     "output_type": "stream",
     "text": [
      "(48895, 15)\n",
      "(48883, 23)\n",
      "(48895, 20)\n",
      "      neighbourhood_group  latitude  longitude  \\\n",
      "4477             Brooklyn  40.70481  -73.97755   \n",
      "37494              Queens  40.60513  -73.77024   \n",
      "42760               Bronx  40.90484  -73.84489   \n",
      "43764               Bronx  40.90406  -73.86286   \n",
      "44052              Queens  40.69955  -73.72247   \n",
      "46263              Queens  40.68205  -73.72581   \n",
      "46966              Queens  40.77444  -73.73373   \n",
      "47133           Manhattan  40.74336  -73.97143   \n",
      "47790               Bronx  40.91234  -73.89417   \n",
      "47957           Manhattan  40.75003  -74.01455   \n",
      "48029               Bronx  40.91306  -73.89389   \n",
      "48033               Bronx  40.91167  -73.89566   \n",
      "\n",
      "                                                    name  \n",
      "4477                          Cute and cozy in Manhattan  \n",
      "37494                            Queens home with a view  \n",
      "42760                                          The Sweet  \n",
      "43764                               Comfy basement suite  \n",
      "44052       Beautiful colonial near Belmont Race \\nTract  \n",
      "46263                                    Grace and Peace  \n",
      "46966  30-min to Manhattan Quiet Big House in Great Neck  \n",
      "47133           Nicely Orgonized Three Bedrrom Apartment  \n",
      "47790                            Nice house private room  \n",
      "47957   Spectacular Views of NYC - 54th Floor Corner Apt  \n",
      "48029                                Nice room to rent 1  \n",
      "48033          Nice house room 2 near van cortlandt park  \n",
      "1.9.6\n"
     ]
    },
    {
     "data": {
      "image/png": "[encoded data removed]",
      "text/plain": [
       "<Figure size 720x720 with 1 Axes>"
      ]
     },
     "metadata": {
      "needs_background": "light"
     },
     "output_type": "display_data"
    }
   ],
   "source": [
    "## http://geojson.io/#map=11/40.7592/-73.8683\n",
    "print(gdf_airbnb.shape)\n",
    "print(data_nbh_temp.shape)\n",
    "print(data_km.shape)\n",
    "dta_temp=data_km.join(data_nbh_temp[[\"id\",\"NTAName\"]].set_index(\"id\"),on=\"id\",how=\"left\")\n",
    "dta_temp[[\"neighbourhood_group\",\"neighbourhood\",\"NTAName\"]][dta_temp[\"NTAName\"].isnull()]\n",
    "a=dta_temp[[\"neighbourhood_group\",'latitude', 'longitude',\"name\"]][dta_temp[\"NTAName\"].isnull()]\n",
    "print(a)\n",
    "dta_temp_jason=gpd.GeoDataFrame(a.drop(['latitude', 'longitude'], axis=1),crs=crs,\n",
    "                       geometry=a.apply(lambda row: shapely.geometry.Point((row.longitude, row.latitude)), axis=1))\n",
    "dta_temp_jason.to_file(save_location+\"points_Outof_NY.geojson\", driver='GeoJSON')\n",
    "\n",
    "nyc = gpd.read_file(gpd.datasets.get_path('nybb'))\n",
    "import pyproj\n",
    "print (pyproj.__version__)\n",
    "#pyproj.Proj(\"+init=epsg:4326\")\n",
    "\n",
    "nyc = nyc.to_crs(epsg=4326)\n",
    "nyc=nyc.sort_values(by=\"BoroName\")\n",
    "\n",
    "fig,ax = plt.subplots(figsize=(10,10))\n",
    "nyc.plot(ax=ax,alpha=0.4,edgecolor='black',color=\"white\")\n",
    "dta_temp_jason.plot(ax=ax,markersize=10)\n",
    "plt.show()\n",
    "\n",
    "\n",
    "\n",
    "#print(gdf_airbnb.head(3))\n",
    "#print(data_nbh_temp[[\"neighbourhood\",\"NTAName\"]].head(5))\n",
    "#print(data_nbh_temp[[\"neighbourhood\",\"NTAName\"]].nunique())\n",
    "#data_nbh_temp=data_nbh_temp[[\"id\",\"NTAName\"]]\n",
    "#print(data_nbh_temp.nunique())\n",
    "#print(data_km[[\"id\"]].nunique())\n"
   ]
  },
  {
   "cell_type": "code",
   "execution_count": 222,
   "metadata": {},
   "outputs": [
    {
     "data": {
      "text/plain": [
       "(48883, 21)"
      ]
     },
     "execution_count": 222,
     "metadata": {},
     "output_type": "execute_result"
    }
   ],
   "source": [
    "#remove ooutlinear, location can not be identified\n",
    "data_km=data_km.join(data_nbh_temp[[\"id\",\"NTAName\"]].set_index(\"id\"),on=\"id\",how=\"left\")\n",
    "data_km=data_km[data_km[\"NTAName\"].isnull()!=True]\n",
    "data_km.shape"
   ]
  },
  {
   "cell_type": "code",
   "execution_count": 287,
   "metadata": {},
   "outputs": [
    {
     "data": {
      "text/plain": [
       "Index(['id', 'name', 'host_id', 'host_name', 'neighbourhood_group',\n",
       "       'neighbourhood', 'latitude', 'longitude', 'room_type', 'price',\n",
       "       'minimum_nights', 'number_of_reviews', 'last_review',\n",
       "       'reviews_per_month', 'calculated_host_listings_count',\n",
       "       'availability_365', 'distance to the nearest metro',\n",
       "       'number of museum within 500', 'distance to the nearest popular scene',\n",
       "       'number of top10 within 500', 'NTAName', 'review this year'],\n",
       "      dtype='object')"
      ]
     },
     "execution_count": 287,
     "metadata": {},
     "output_type": "execute_result"
    }
   ],
   "source": [
    "data_km.columns"
   ]
  },
  {
   "cell_type": "code",
   "execution_count": 286,
   "metadata": {},
   "outputs": [
    {
     "name": "stderr",
     "output_type": "stream",
     "text": [
      "C:\\Users\\Selina\\Anaconda3\\lib\\site-packages\\ipykernel_launcher.py:6: SettingWithCopyWarning: \n",
      "A value is trying to be set on a copy of a slice from a DataFrame.\n",
      "Try using .loc[row_indexer,col_indexer] = value instead\n",
      "\n",
      "See the caveats in the documentation: http://pandas.pydata.org/pandas-docs/stable/user_guide/indexing.html#returning-a-view-versus-a-copy\n",
      "  \n"
     ]
    },
    {
     "name": "stdout",
     "output_type": "stream",
     "text": [
      "  last_review    id    year  review this year\n",
      "0  2018-10-19  2539  2018.0                 0\n",
      "1  2019-05-21  2595  2019.0                 1\n",
      "2         NaT  3647     NaN                 0\n"
     ]
    },
    {
     "name": "stderr",
     "output_type": "stream",
     "text": [
      "C:\\Users\\Selina\\Anaconda3\\lib\\site-packages\\ipykernel_launcher.py:7: SettingWithCopyWarning: \n",
      "A value is trying to be set on a copy of a slice from a DataFrame.\n",
      "Try using .loc[row_indexer,col_indexer] = value instead\n",
      "\n",
      "See the caveats in the documentation: http://pandas.pydata.org/pandas-docs/stable/user_guide/indexing.html#returning-a-view-versus-a-copy\n",
      "  import sys\n",
      "C:\\Users\\Selina\\Anaconda3\\lib\\site-packages\\ipykernel_launcher.py:8: SettingWithCopyWarning: \n",
      "A value is trying to be set on a copy of a slice from a DataFrame.\n",
      "Try using .loc[row_indexer,col_indexer] = value instead\n",
      "\n",
      "See the caveats in the documentation: http://pandas.pydata.org/pandas-docs/stable/user_guide/indexing.html#returning-a-view-versus-a-copy\n",
      "  \n",
      "C:\\Users\\Selina\\Anaconda3\\lib\\site-packages\\pandas\\core\\indexing.py:494: SettingWithCopyWarning: \n",
      "A value is trying to be set on a copy of a slice from a DataFrame.\n",
      "Try using .loc[row_indexer,col_indexer] = value instead\n",
      "\n",
      "See the caveats in the documentation: http://pandas.pydata.org/pandas-docs/stable/user_guide/indexing.html#returning-a-view-versus-a-copy\n",
      "  self.obj[item] = s\n"
     ]
    }
   ],
   "source": [
    "#review date (in this year(dateset end with 2019/Augest))\n",
    "name_6=\"last_review\"\n",
    "name_temp=\"review this year\"\n",
    "#print(data_km.head(3))\n",
    "dta_temp=data_km[[name_6,\"id\"]]\n",
    "dta_temp[name_6]=pd.to_datetime(dta_temp[name_6],dayfirst=True)\n",
    "dta_temp[\"year\"]=dta_temp[name_6].apply(lambda x:float(x.year))\n",
    "dta_temp[name_temp]=0\n",
    "dta_temp.loc[dta_temp[\"year\"]==2019,name_temp]=1\n",
    "print(dta_temp.head(3))\n",
    "data_km=data_km.join(dta_temp[[\"id\",name_temp]].set_index(\"id\"),on=\"id\",how=\"left\")"
   ]
  },
  {
   "cell_type": "code",
   "execution_count": 289,
   "metadata": {},
   "outputs": [
    {
     "name": "stdout",
     "output_type": "stream",
     "text": [
      "                 id       host_id      latitude     longitude         price  \\\n",
      "count  4.888300e+04  4.888300e+04  48883.000000  48883.000000  48883.000000   \n",
      "mean   1.901395e+07  6.759680e+07     40.728933    -73.952193    152.725201   \n",
      "std    1.098168e+07  7.859281e+07      0.054502      0.046114    240.179299   \n",
      "min    2.539000e+03  2.438000e+03     40.499790    -74.244420      0.000000   \n",
      "25%    9.470616e+06  7.816856e+06     40.690095    -73.983080     69.000000   \n",
      "50%    1.967574e+07  3.078690e+07     40.723070    -73.955680    106.000000   \n",
      "75%    2.914846e+07  1.074344e+08     40.763105    -73.936295    175.000000   \n",
      "max    3.648724e+07  2.743213e+08     40.911690    -73.712990  10000.000000   \n",
      "\n",
      "       minimum_nights  number_of_reviews  reviews_per_month  \\\n",
      "count    48883.000000       48883.000000       38835.000000   \n",
      "mean         7.028947          23.279300           1.373231   \n",
      "std         20.509211          44.554763           1.680525   \n",
      "min          1.000000           0.000000           0.010000   \n",
      "25%          1.000000           1.000000           0.190000   \n",
      "50%          3.000000           5.000000           0.720000   \n",
      "75%          5.000000          24.000000           2.020000   \n",
      "max       1250.000000         629.000000          58.500000   \n",
      "\n",
      "       calculated_host_listings_count  availability_365  \\\n",
      "count                    48883.000000      48883.000000   \n",
      "mean                         7.144877        112.770288   \n",
      "std                         32.956382        131.625362   \n",
      "min                          1.000000          0.000000   \n",
      "25%                          1.000000          0.000000   \n",
      "50%                          1.000000         45.000000   \n",
      "75%                          2.000000        227.000000   \n",
      "max                        327.000000        365.000000   \n",
      "\n",
      "       distance to the nearest metro  number of museum within 500  \\\n",
      "count                   48883.000000                 48883.000000   \n",
      "mean                      471.319687                     0.583659   \n",
      "std                       843.742231                     1.301683   \n",
      "min                         0.907626                     0.000000   \n",
      "25%                       202.643292                     0.000000   \n",
      "50%                       314.057065                     0.000000   \n",
      "75%                       467.973646                     1.000000   \n",
      "max                     22012.718775                     8.000000   \n",
      "\n",
      "       distance to the nearest popular scene  number of top10 within 500  \\\n",
      "count                           48883.000000                48883.000000   \n",
      "mean                             2828.926362                    0.093939   \n",
      "std                              2985.246079                    0.311746   \n",
      "min                                 0.000000                    0.000000   \n",
      "25%                              1094.742946                    0.000000   \n",
      "50%                              2019.829907                    0.000000   \n",
      "75%                              3200.546405                    0.000000   \n",
      "max                             28032.483075                    2.000000   \n",
      "\n",
      "       review this year  \n",
      "count      48883.000000  \n",
      "mean           0.515558  \n",
      "std            0.499763  \n",
      "min            0.000000  \n",
      "25%            0.000000  \n",
      "50%            1.000000  \n",
      "75%            1.000000  \n",
      "max            1.000000  \n"
     ]
    },
    {
     "data": {
      "text/plain": [
       "191"
      ]
     },
     "execution_count": 289,
     "metadata": {},
     "output_type": "execute_result"
    }
   ],
   "source": [
    "data_km.to_csv(read_location+\"AB_NYC_2019_GIS_km_all.csv\",index=False)\n",
    "data_km.describe().to_csv(save_location+\"GIS_km_summary_all.csv\",index=True)\n",
    "print(data_km.describe())\n",
    "data_km.NTAName.nunique()"
   ]
  }
 ],
 "metadata": {
  "kernelspec": {
   "display_name": "Python 3",
   "language": "python",
   "name": "python3"
  },
  "language_info": {
   "codemirror_mode": {
    "name": "ipython",
    "version": 3
   },
   "file_extension": ".py",
   "mimetype": "text/x-python",
   "name": "python",
   "nbconvert_exporter": "python",
   "pygments_lexer": "ipython3",
   "version": "3.6.5"
  }
 },
 "nbformat": 4,
 "nbformat_minor": 2
}
